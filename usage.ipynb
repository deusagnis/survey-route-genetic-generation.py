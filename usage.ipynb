{
 "cells": [
  {
   "cell_type": "markdown",
   "metadata": {
    "pycharm": {
     "name": "#%% md\n"
    }
   },
   "source": [
    "## Построение оптимального маршрута полётной миссии БПЛА для обследования установленной зоны с помощью генетического алгоритма"
   ]
  },
  {
   "cell_type": "markdown",
   "metadata": {
    "pycharm": {
     "name": "#%% md\n"
    }
   },
   "source": [
    "Импортируем необходимые модули."
   ]
  },
  {
   "cell_type": "code",
   "execution_count": 1,
   "metadata": {
    "pycharm": {
     "name": "#%%\n"
    }
   },
   "outputs": [],
   "source": [
    "import numpy as np\n",
    "from survey_route_generation.data.vehicle_data import VehicleData\n",
    "from survey_route_generation.data.mission_settings import MissionSettings\n",
    "from survey_route_generation.factories.route_generator_factory import RouteGeneratorFactory"
   ]
  },
  {
   "cell_type": "markdown",
   "metadata": {
    "pycharm": {
     "name": "#%% md\n"
    }
   },
   "source": [
    "Зададим параметры БПЛА и зоны обследования."
   ]
  },
  {
   "cell_type": "code",
   "execution_count": 2,
   "metadata": {
    "pycharm": {
     "name": "#%%\n"
    }
   },
   "outputs": [],
   "source": [
    "# Параметры БПЛА: ширина приборного зрения (м)\n",
    "vehicle_data = VehicleData(5000)\n",
    "\n",
    "# Настройки полётной миссии: координаты точки начала и точки завершения миссии\n",
    "mission_settings = MissionSettings(\n",
    "    [54.9611806, 20.21824722222222],\n",
    "    [54.9331722, 20.370066666666666]\n",
    ")\n",
    "\n",
    "# Координаты точек зоны обследования\n",
    "survey_area_points = np.array([\n",
    "    [55.247697, 19.699547],\n",
    "    [55.559281, 19.056831],\n",
    "    [55.974931, 19.660008],\n",
    "    [55.836542, 20.503575],\n",
    "])"
   ]
  },
  {
   "cell_type": "markdown",
   "metadata": {
    "pycharm": {
     "name": "#%% md\n"
    }
   },
   "source": [
    "Зададим параметры определения оптимального маршрута для генетического алгоритма."
   ]
  },
  {
   "cell_type": "code",
   "execution_count": 3,
   "metadata": {
    "pycharm": {
     "name": "#%%\n"
    }
   },
   "outputs": [],
   "source": [
    "generator_factory = RouteGeneratorFactory()\n",
    "\n",
    "# Размер начальной популяции\n",
    "generator_factory.population_size = 128\n",
    "# Доля выживших особей при отборе\n",
    "generator_factory.selection_rate = 0.6\n",
    "# Количество генотипов при размножении\n",
    "generator_factory.parents_count = 2\n",
    "# Доля мутированных особей\n",
    "generator_factory.mutants_rate = 0.1\n",
    "# Максимальное число циклов смены популяции\n",
    "generator_factory.max_lifecycles = 256\n",
    "# Тип выбора родительских генотипов при скрещивании: panmixia, inbreeding, outbreeding\n",
    "generator_factory.parents_choice_type = \"panmixia\"\n",
    "# Тип сравнения генотипов при группировке родителей методами аутбридинга и инбридинга: fitness, combination\n",
    "generator_factory.parents_similarity_type = \"fitness\"\n",
    "# Число мутаций в генотипе\n",
    "generator_factory.mutation_swap_value = 0.1\n",
    "# Тип числа мутаций: доля или конкретное число\n",
    "generator_factory.mutation_swap_type = \"percent\"\n",
    "# Значимость сокращения длины маршрута при оценке приспособленности\n",
    "generator_factory.route_distance_weight = 2\n",
    "# Значимость увеличения плавности движения при оценке приспособленности\n",
    "generator_factory.route_turns_angle_weight = 0.5"
   ]
  },
  {
   "cell_type": "markdown",
   "metadata": {
    "pycharm": {
     "name": "#%% md\n"
    }
   },
   "source": [
    "Создадим генератор полётной миссии с данными параметрами и запустим поиск маршрута."
   ]
  },
  {
   "cell_type": "code",
   "execution_count": 4,
   "metadata": {
    "pycharm": {
     "name": "#%%\n"
    }
   },
   "outputs": [
    {
     "name": "stdout",
     "output_type": "stream",
     "text": [
      "Точка входа в зону обследования: [55.247697 19.699547]\n",
      "Точка выхода из зоны обследования: [55.247697 19.699547]\n",
      "Границы описанного прямоугольника зоны обследования: {'lat_bot': 55.247697, 'lat_top': 55.974931, 'lon_left': 19.056831, 'lon_right': 20.503575}\n",
      "Расстояние между парой ключевых точек: 4750.0\n",
      "Количество ключевых точек в начальной сетке: 399\n",
      "Количество ключевых точек в маршруте: 165\n"
     ]
    }
   ],
   "source": [
    "generator = generator_factory.make()\n",
    "\n",
    "route = generator.generate_route(\n",
    "    vehicle_data,\n",
    "    mission_settings,\n",
    "    survey_area_points\n",
    ")"
   ]
  },
  {
   "cell_type": "markdown",
   "metadata": {
    "pycharm": {
     "name": "#%% md\n"
    }
   },
   "source": [
    "Выгрузим полученный маршрут в файл формата GeoJson."
   ]
  },
  {
   "cell_type": "code",
   "execution_count": 5,
   "outputs": [
    {
     "data": {
      "text/plain": "7612"
     },
     "execution_count": 5,
     "metadata": {},
     "output_type": "execute_result"
    }
   ],
   "source": [],
   "metadata": {
    "collapsed": false,
    "pycharm": {
     "name": "#%%\n"
    }
   }
  }
 ],
 "metadata": {
  "kernelspec": {
   "display_name": "Python 3 (ipykernel)",
   "language": "python",
   "name": "python3"
  },
  "language_info": {
   "codemirror_mode": {
    "name": "ipython",
    "version": 3
   },
   "file_extension": ".py",
   "mimetype": "text/x-python",
   "name": "python",
   "nbconvert_exporter": "python",
   "pygments_lexer": "ipython3",
   "version": "3.10.0"
  }
 },
 "nbformat": 4,
 "nbformat_minor": 1
}